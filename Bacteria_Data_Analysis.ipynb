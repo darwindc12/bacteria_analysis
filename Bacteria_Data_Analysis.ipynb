{
 "cells": [
  {
   "cell_type": "code",
   "execution_count": 1,
   "id": "d04cbbb6-47e2-48d7-924e-c1a36fc6900a",
   "metadata": {},
   "outputs": [],
   "source": [
    "import pandas as pd\n",
    "import numpy as np\n",
    "import matplotlib.pyplot as plt\n",
    "from sklearn.model_selection import train_test_split, cross_val_score\n",
    "from sklearn.tree import DecisionTreeClassifier\n",
    "from sklearn.preprocessing import LabelEncoder, StandardScaler\n",
    "from sklearn.metrics import accuracy_score, classification_report, ConfusionMatrixDisplay\n",
    "import joblib"
   ]
  },
  {
   "cell_type": "markdown",
   "id": "e4dd2dc6-cf5c-4ba1-8686-e6da83c5c91b",
   "metadata": {},
   "source": [
    "# 1. **Introduction**\n",
    "\"\"\"\n",
    "Objective: Predict whether a bacterium is harmful to humans based on its family and location.\n",
    "Goal: Build a machine learning model that achieves an accuracy of at least 80%.\n",
    "\"\"\""
   ]
  },
  {
   "cell_type": "markdown",
   "id": "85f67548-aacd-4995-9fd0-c7512a57857a",
   "metadata": {},
   "source": [
    "# 2. **Data Loading**"
   ]
  },
  {
   "cell_type": "code",
   "execution_count": 4,
   "id": "8b424802-da0e-4004-b06a-2508a50b071c",
   "metadata": {},
   "outputs": [],
   "source": [
    "# Import the dataset\n",
    "df = pd.read_csv('bacteria_list_200.csv')"
   ]
  },
  {
   "cell_type": "markdown",
   "id": "9e8e4c73-7877-4abc-afd8-18e34d27a756",
   "metadata": {},
   "source": [
    "# 3. **Data Cleaning**"
   ]
  },
  {
   "cell_type": "code",
   "execution_count": 6,
   "id": "0cb77c2d-4236-426b-a676-8dd12f35a6c0",
   "metadata": {},
   "outputs": [
    {
     "name": "stdout",
     "output_type": "stream",
     "text": [
      "\n",
      "Preview of the Data:\n",
      "                         Name              Family  \\\n",
      "0           Escherichia coli  Enterobacteriaceae   \n",
      "1      Staphylococcus aureus   Staphylococcaceae   \n",
      "2  Lactobacillus acidophilus    Lactobacillaceae   \n",
      "3          Bacillus subtilis         Bacillaceae   \n",
      "4      Clostridium botulinum      Clostridiaceae   \n",
      "\n",
      "                     Where Found Harmful to Humans  \n",
      "0               Intestinal tract               Yes  \n",
      "1           Skin, nasal passages               Yes  \n",
      "2        Human mouth & intestine                No  \n",
      "3                           Soil                No  \n",
      "4  Soil, improperly canned foods               Yes  \n",
      "\n",
      "Data Overview:\n",
      "\n",
      "<class 'pandas.core.frame.DataFrame'>\n",
      "RangeIndex: 199 entries, 0 to 198\n",
      "Data columns (total 4 columns):\n",
      " #   Column             Non-Null Count  Dtype \n",
      "---  ------             --------------  ----- \n",
      " 0   Name               199 non-null    object\n",
      " 1   Family             199 non-null    object\n",
      " 2   Where Found        199 non-null    object\n",
      " 3   Harmful to Humans  199 non-null    object\n",
      "dtypes: object(4)\n",
      "memory usage: 6.3+ KB\n",
      "\n",
      "Missing Data Report:\n",
      " Name                 0\n",
      "Family               0\n",
      "Where Found          0\n",
      "Harmful to Humans    0\n",
      "dtype: int64\n"
     ]
    }
   ],
   "source": [
    "# Initial glance at the data\n",
    "print(\"\\nPreview of the Data:\\n\", df.head())\n",
    "print(\"\\nData Overview:\\n\")\n",
    "df.info()\n",
    "\n",
    "# 3. **Data Cleaning**\n",
    "# Check for missing data\n",
    "missing_values = df.isnull().sum()\n",
    "print(\"\\nMissing Data Report:\\n\", missing_values)\n",
    "\n",
    "# Remove rows with missing values\n",
    "df.dropna(inplace=True)\n",
    "\n",
    "# Eliminate duplicate rows if any\n",
    "df.drop_duplicates(inplace=True)\n",
    "\n",
    "# Ensure the 'Harmful to Humans' column is treated as a categorical variable\n",
    "df['Harmful to Humans'] = df['Harmful to Humans'].astype(str)"
   ]
  },
  {
   "cell_type": "markdown",
   "id": "d2cc42fd-cf90-4f7a-9967-9f0c2f57d944",
   "metadata": {},
   "source": [
    "# 4. **Exploratory Analysis**"
   ]
  },
  {
   "cell_type": "code",
   "execution_count": 9,
   "id": "f84b08e0-b2fd-4e1b-b311-21994df43482",
   "metadata": {},
   "outputs": [
    {
     "name": "stdout",
     "output_type": "stream",
     "text": [
      "\n",
      "Statistical Summary:\n",
      "                            Name              Family Where Found  \\\n",
      "count                       196                 196         196   \n",
      "unique                      194                  93         120   \n",
      "top     Fusobacterium nucleatum  Enterobacteriaceae        Soil   \n",
      "freq                          2                  21          17   \n",
      "\n",
      "       Harmful to Humans  \n",
      "count                196  \n",
      "unique                 3  \n",
      "top                   No  \n",
      "freq                 102  \n"
     ]
    },
    {
     "data": {
      "image/png": "[encoded data removed]",
      "text/plain": [
       "<Figure size 640x480 with 1 Axes>"
      ]
     },
     "metadata": {},
     "output_type": "display_data"
    },
    {
     "name": "stdout",
     "output_type": "stream",
     "text": [
      "Skipping correlation heatmap because the values are identical.\n"
     ]
    },
    {
     "data": {
      "text/plain": [
       "<Figure size 1000x800 with 0 Axes>"
      ]
     },
     "metadata": {},
     "output_type": "display_data"
    }
   ],
   "source": [
    "# Overview of basic statistics\n",
    "print(\"\\nStatistical Summary:\\n\", df.describe(include='all'))\n",
    "\n",
    "# Distribution of harmful vs non-harmful bacteria\n",
    "df['Harmful to Humans'].value_counts().plot(kind='bar', title='Distribution of Harmful and Non-Harmful Bacteria')\n",
    "plt.show()\n",
    "\n",
    "# Correlation analysis\n",
    "plt.figure(figsize=(10, 8))\n",
    "correlation_matrix = df.select_dtypes(include=[np.number]).corr()\n",
    "\n",
    "# Check if correlation matrix is valid\n",
    "if correlation_matrix.nunique().max() > 1:\n",
    "    plt.title(\"Feature Correlation Heatmap\")\n",
    "    plt.imshow(correlation_matrix, cmap='coolwarm', interpolation='none', vmin=-1, vmax=1)\n",
    "    plt.colorbar()\n",
    "    plt.show()\n",
    "else:\n",
    "    print(\"Skipping correlation heatmap because the values are identical.\")"
   ]
  },
  {
   "cell_type": "markdown",
   "id": "040951a1-aae4-4c48-8ad2-c9534af04b17",
   "metadata": {},
   "source": [
    "# 5. **Feature Preparation**"
   ]
  },
  {
   "cell_type": "code",
   "execution_count": 10,
   "id": "44f5f99e-4299-4c1e-a8b5-ddefa60a5f20",
   "metadata": {},
   "outputs": [],
   "source": [
    "# Convert categorical data into numbers using label encoding\n",
    "encoder_family = LabelEncoder()\n",
    "encoder_location = LabelEncoder()\n",
    "encoder_harmful = LabelEncoder()\n",
    "\n",
    "df['Family_encoded'] = encoder_family.fit_transform(df['Family'])\n",
    "df['Location_encoded'] = encoder_location.fit_transform(df['Where Found'])\n",
    "df['Harmful_encoded'] = encoder_harmful.fit_transform(df['Harmful to Humans'])\n",
    "\n",
    "# Define features (X) and labels (y)\n",
    "X = df[['Family_encoded', 'Location_encoded']]\n",
    "y = df['Harmful_encoded']\n",
    "\n",
    "# Normalize the feature values\n",
    "scaler = StandardScaler()\n",
    "X_scaled = scaler.fit_transform(X)"
   ]
  },
  {
   "cell_type": "code",
   "execution_count": null,
   "id": "8d3b370e-27ad-4cb2-a0db-810af344b867",
   "metadata": {},
   "outputs": [],
   "source": []
  }
 ],
 "metadata": {
  "kernelspec": {
   "display_name": "Python 3 (ipykernel)",
   "language": "python",
   "name": "python3"
  },
  "language_info": {
   "codemirror_mode": {
    "name": "ipython",
    "version": 3
   },
   "file_extension": ".py",
   "mimetype": "text/x-python",
   "name": "python",
   "nbconvert_exporter": "python",
   "pygments_lexer": "ipython3",
   "version": "3.12.5"
  }
 },
 "nbformat": 4,
 "nbformat_minor": 5
}
