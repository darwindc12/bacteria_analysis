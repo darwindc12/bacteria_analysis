{
 "cells": [
  {
   "cell_type": "code",
   "execution_count": 1,
   "id": "d04cbbb6-47e2-48d7-924e-c1a36fc6900a",
   "metadata": {},
   "outputs": [],
   "source": [
    "import pandas as pd\n",
    "import numpy as np\n",
    "import matplotlib.pyplot as plt\n",
    "from sklearn.model_selection import train_test_split, cross_val_score\n",
    "from sklearn.tree import DecisionTreeClassifier\n",
    "from sklearn.preprocessing import LabelEncoder, StandardScaler\n",
    "from sklearn.metrics import accuracy_score, classification_report, ConfusionMatrixDisplay\n",
    "import joblib"
   ]
  },
  {
   "cell_type": "markdown",
   "id": "e4dd2dc6-cf5c-4ba1-8686-e6da83c5c91b",
   "metadata": {},
   "source": [
    "# 1. **Introduction**\n",
    "\"\"\"\n",
    "Objective: Predict whether a bacterium is harmful to humans based on its family and location.\n",
    "Goal: Build a machine learning model that achieves an accuracy of at least 80%.\n",
    "\"\"\""
   ]
  },
  {
   "cell_type": "markdown",
   "id": "85f67548-aacd-4995-9fd0-c7512a57857a",
   "metadata": {},
   "source": [
    "# 2. **Data Loading**"
   ]
  },
  {
   "cell_type": "code",
   "execution_count": 4,
   "id": "8b424802-da0e-4004-b06a-2508a50b071c",
   "metadata": {},
   "outputs": [],
   "source": [
    "# Import the dataset\n",
    "df = pd.read_csv('bacteria_list_200.csv')"
   ]
  },
  {
   "cell_type": "code",
   "execution_count": 6,
   "id": "0cb77c2d-4236-426b-a676-8dd12f35a6c0",
   "metadata": {},
   "outputs": [
    {
     "name": "stdout",
     "output_type": "stream",
     "text": [
      "\n",
      "Preview of the Data:\n",
      "                         Name              Family  \\\n",
      "0           Escherichia coli  Enterobacteriaceae   \n",
      "1      Staphylococcus aureus   Staphylococcaceae   \n",
      "2  Lactobacillus acidophilus    Lactobacillaceae   \n",
      "3          Bacillus subtilis         Bacillaceae   \n",
      "4      Clostridium botulinum      Clostridiaceae   \n",
      "\n",
      "                     Where Found Harmful to Humans  \n",
      "0               Intestinal tract               Yes  \n",
      "1           Skin, nasal passages               Yes  \n",
      "2        Human mouth & intestine                No  \n",
      "3                           Soil                No  \n",
      "4  Soil, improperly canned foods               Yes  \n",
      "\n",
      "Data Overview:\n",
      "\n",
      "<class 'pandas.core.frame.DataFrame'>\n",
      "RangeIndex: 199 entries, 0 to 198\n",
      "Data columns (total 4 columns):\n",
      " #   Column             Non-Null Count  Dtype \n",
      "---  ------             --------------  ----- \n",
      " 0   Name               199 non-null    object\n",
      " 1   Family             199 non-null    object\n",
      " 2   Where Found        199 non-null    object\n",
      " 3   Harmful to Humans  199 non-null    object\n",
      "dtypes: object(4)\n",
      "memory usage: 6.3+ KB\n",
      "\n",
      "Missing Data Report:\n",
      " Name                 0\n",
      "Family               0\n",
      "Where Found          0\n",
      "Harmful to Humans    0\n",
      "dtype: int64\n"
     ]
    }
   ],
   "source": [
    "# Initial glance at the data\n",
    "print(\"\\nPreview of the Data:\\n\", df.head())\n",
    "print(\"\\nData Overview:\\n\")\n",
    "df.info()\n",
    "\n",
    "# 3. **Data Cleaning**\n",
    "# Check for missing data\n",
    "missing_values = df.isnull().sum()\n",
    "print(\"\\nMissing Data Report:\\n\", missing_values)\n",
    "\n",
    "# Remove rows with missing values\n",
    "df.dropna(inplace=True)\n",
    "\n",
    "# Eliminate duplicate rows if any\n",
    "df.drop_duplicates(inplace=True)\n",
    "\n",
    "# Ensure the 'Harmful to Humans' column is treated as a categorical variable\n",
    "df['Harmful to Humans'] = df['Harmful to Humans'].astype(str)"
   ]
  },
  {
   "cell_type": "code",
   "execution_count": null,
   "id": "9038d4a8-f1fc-4969-852f-66372370537a",
   "metadata": {},
   "outputs": [],
   "source": []
  }
 ],
 "metadata": {
  "kernelspec": {
   "display_name": "Python 3 (ipykernel)",
   "language": "python",
   "name": "python3"
  },
  "language_info": {
   "codemirror_mode": {
    "name": "ipython",
    "version": 3
   },
   "file_extension": ".py",
   "mimetype": "text/x-python",
   "name": "python",
   "nbconvert_exporter": "python",
   "pygments_lexer": "ipython3",
   "version": "3.12.5"
  }
 },
 "nbformat": 4,
 "nbformat_minor": 5
}
